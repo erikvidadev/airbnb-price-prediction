{
 "cells": [
  {
   "cell_type": "markdown",
   "id": "de36f604-acb6-46b6-97ca-2d884ed15d6f",
   "metadata": {},
   "source": [
    "# DATA CLEANING"
   ]
  },
  {
   "cell_type": "markdown",
   "id": "b2074564-3438-40fa-a9b4-9c1944a2334a",
   "metadata": {
    "jp-MarkdownHeadingCollapsed": true
   },
   "source": [
    "## Why is it important?\n",
    "Poorly cleaned data leads to misleading conclusions and bad models."
   ]
  },
  {
   "cell_type": "markdown",
   "id": "0183124e-c1da-4179-a275-05244e675d59",
   "metadata": {},
   "source": [
    "## What should it contain?\n",
    "\n",
    "- Loading data \n",
    "- Basic information (.shape, .info(), .describe())\n",
    "- Handling missing values (e.g., filling in, deleting)\n",
    "- Searching for and removing duplicates\n",
    "- Checking types (e.g., dates → datetime, prices → float)\n",
    "- Filtering out outliers (e.g., $10,000/night on Airbnb is unrealistic)\n",
    "- Standardization (e.g., currencies, formats)"
   ]
  },
  {
   "cell_type": "markdown",
   "id": "f1319db0-238c-41b0-a397-8e03db692b3b",
   "metadata": {},
   "source": [
    "### Imports"
   ]
  },
  {
   "cell_type": "code",
   "execution_count": null,
   "id": "2576fc76-6ef9-441f-ab6d-c0f2a44dcbc9",
   "metadata": {},
   "outputs": [],
   "source": [
    "import os\n",
    "import sys\n",
    "\n",
    "import pandas as pd\n",
    "import numpy as np\n",
    "from dotenv import load_dotenv\n",
    "\n",
    "from src.db_connection import DatabaseConfig, DatabaseConnection\n",
    "\n",
    "\n",
    "dotenv_path = \"/Users/erikvida/PycharmProjects/airbnb-price-prediction/.env\"\n",
    "load_dotenv(dotenv_path)"
   ]
  },
  {
   "cell_type": "markdown",
   "id": "fc3ec41c-2f5e-4a9d-a151-531df30cb203",
   "metadata": {},
   "source": [
    "### 1.0 Loading data"
   ]
  },
  {
   "cell_type": "code",
   "execution_count": null,
   "id": "897dc5fc-7846-42f4-b765-d0c6406a29c0",
   "metadata": {},
   "outputs": [],
   "source": [
    "amsterdams_airbnbs_raw_data = pd.read_csv(\"../data/raw/amsterdam_airbnbs_data.csv\")\n",
    "df= amsterdams_airbnbs_raw_data\n",
    "df.head()"
   ]
  },
  {
   "cell_type": "markdown",
   "id": "a4d1a246-f9e6-4acc-88cc-96ae19e25824",
   "metadata": {},
   "source": [
    "### 2.0 Basic informations"
   ]
  },
  {
   "cell_type": "markdown",
   "id": "c7d783d9-5407-44c2-9077-08cd3cda66fa",
   "metadata": {},
   "source": [
    "#### 2.1 Shape"
   ]
  },
  {
   "cell_type": "code",
   "execution_count": null,
   "id": "ed12d852-1372-4528-8209-a5e971ec982d",
   "metadata": {},
   "outputs": [],
   "source": [
    "num_rows, num_columns = df.shape\n",
    "print(f\" Rows: {num_rows}, Columns: {num_columns}\")"
   ]
  },
  {
   "cell_type": "markdown",
   "id": "843fc102-3f4a-45c8-9119-263041ebb6ef",
   "metadata": {},
   "source": [
    "#### 2.2 Info - Data type of the differnt culomns"
   ]
  },
  {
   "cell_type": "code",
   "execution_count": null,
   "id": "a9792192-32de-4e0f-8488-784d50065d5b",
   "metadata": {},
   "outputs": [],
   "source": [
    "print(\"\\n Data Types:\")\n",
    "df.info()"
   ]
  },
  {
   "cell_type": "markdown",
   "id": "ed7c9a6b-4e80-4f28-be31-64d51c0f7572",
   "metadata": {},
   "source": [
    "#### 2.3 Descriptive statistics"
   ]
  },
  {
   "cell_type": "code",
   "execution_count": null,
   "id": "f1c3d4a7-9568-4000-bc58-054c93ecae06",
   "metadata": {},
   "outputs": [],
   "source": [
    "print(\"\\n Descriptive Statistics:\")\n",
    "df.describe().T"
   ]
  },
  {
   "cell_type": "markdown",
   "id": "e6f72505-5789-4744-bef8-2da111e82e14",
   "metadata": {},
   "source": [
    "### 3.0 Identify and handle missing values"
   ]
  },
  {
   "cell_type": "markdown",
   "id": "1f8f54bb-de0e-4a6c-92a7-beed0eb6f676",
   "metadata": {},
   "source": [
    "#### 3.1 Identify missing values"
   ]
  },
  {
   "cell_type": "code",
   "execution_count": null,
   "id": "6bf7c9a9-8440-4a01-8e2e-e1bc5521259b",
   "metadata": {
    "scrolled": true
   },
   "outputs": [],
   "source": [
    "df.replace(\"?\", np.nan, inplace = True)\n",
    "df.replace(\"\", np.nan, inplace = True)\n",
    "df.head(5)"
   ]
  },
  {
   "cell_type": "markdown",
   "id": "ed10ad5a-7b5f-445d-9a3e-1d9ec551435e",
   "metadata": {},
   "source": [
    "#### 3.2 Evaluating for Missing Data"
   ]
  },
  {
   "cell_type": "code",
   "execution_count": null,
   "id": "5ac1e5cd-1e08-44c9-a4be-0c13c06ed920",
   "metadata": {},
   "outputs": [],
   "source": [
    "missing_data = df.isnull()\n",
    "missing_data"
   ]
  },
  {
   "cell_type": "markdown",
   "id": "1a9f5b78-6943-43f5-9be7-2237f8c77a2b",
   "metadata": {},
   "source": [
    "#### 3.3 Count missing values in each column"
   ]
  },
  {
   "cell_type": "code",
   "execution_count": null,
   "id": "3b82c0c8-79f3-42ca-b052-3b90a895f5fc",
   "metadata": {
    "scrolled": true
   },
   "outputs": [],
   "source": [
    "for column in missing_data.columns.values.tolist():\n",
    "    print (missing_data[column].value_counts())\n",
    "    print(\"\")  "
   ]
  },
  {
   "cell_type": "markdown",
   "id": "466f27d3-a95c-4ebd-80f8-538d3e77e0f1",
   "metadata": {},
   "source": [
    "#### 3.4 Remove unneccessary culomns with missing values"
   ]
  },
  {
   "cell_type": "code",
   "execution_count": null,
   "id": "01dbcaad-3b92-46f8-8b23-a32339ddef6f",
   "metadata": {},
   "outputs": [],
   "source": [
    "columns_to_drop = [\n",
    "    \"listing_url\", \"scrape_id\", \"last_scraped\", \"source\",\n",
    "    \"neighborhood_overview\", \"picture_url\", \"host_id\", \"host_url\",\n",
    "    \"host_name\", \"host_since\", \"host_location\", \"host_about\", \"host_response_time\",\n",
    "    \"host_thumbnail_url\", \"host_picture_url\", \"host_neighbourhood\",\n",
    "    \"host_identity_verified\", \"neighbourhood_group_cleansed\",\n",
    "    \"calendar_updated\", \"has_availability\", \"availability_30\", \"availability_60\",\n",
    "    \"availability_90\", \"availability_365\", \"calendar_last_scraped\",\n",
    "    \"availability_eoy\", \"estimated_occupancy_l365d\", \"first_review\", \"last_review\",\n",
    "    \"license\", \"calculated_host_listings_count\",\n",
    "    \"calculated_host_listings_count_entire_homes\",\n",
    "    \"calculated_host_listings_count_private_rooms\",\n",
    "    \"calculated_host_listings_count_shared_rooms\",\n",
    "    \"estimated_revenue_l365d\", \"reviews_per_month\",\n",
    "    \"host_verifications\", \"latitude\", \"longitude\",\n",
    "]\n",
    "\n",
    "df.drop(columns=columns_to_drop, errors=\"ignore\", inplace=True)\n",
    "df.head()"
   ]
  },
  {
   "cell_type": "markdown",
   "id": "1a6e75d0-7c56-4f62-a39b-70367a54eea0",
   "metadata": {},
   "source": [
    "#### 3.6 Replace missing value freqency"
   ]
  },
  {
   "cell_type": "code",
   "execution_count": null,
   "id": "89684fee-790d-4012-a3ea-b1c1274c6568",
   "metadata": {
    "scrolled": true
   },
   "outputs": [],
   "source": [
    "mode_columns = [\n",
    "    'host_response_rate', 'host_acceptance_rate', 'host_is_superhost',\n",
    "    'neighbourhood', 'neighbourhood_cleansed', 'property_type', 'room_type'\n",
    "]\n",
    "\n",
    "for col in mode_columns:\n",
    "    if col in df.columns and not df[col].mode().empty:\n",
    "        df[col] = df[col].fillna(df[col].mode()[0])\n",
    "\n",
    "df.head(10)"
   ]
  },
  {
   "cell_type": "markdown",
   "id": "35fffd14-f581-4c38-a8c5-32753211061c",
   "metadata": {},
   "source": [
    "#### 3.7 Replace missing value with mean"
   ]
  },
  {
   "cell_type": "code",
   "execution_count": null,
   "id": "254eb92f-b446-4139-a74a-b35f58e5e45f",
   "metadata": {
    "scrolled": true
   },
   "outputs": [],
   "source": [
    "mean_columns = [\n",
    "    'review_scores_value', 'review_scores_location', 'review_scores_rating',\n",
    "    'review_scores_accuracy', 'review_scores_cleanliness', 'review_scores_checkin',\n",
    "    'review_scores_communication'\n",
    "]\n",
    "\n",
    "for col in mean_columns:\n",
    "    if col in df.columns:\n",
    "        df[col] = df[col].fillna(df[col].mean())\n",
    "\n",
    "df.head(10)\n"
   ]
  },
  {
   "cell_type": "markdown",
   "id": "59bc299d-4de5-48d8-bcec-e254d5ee1ac5",
   "metadata": {},
   "source": [
    "#### 3.8 Replace missing value with random object"
   ]
  },
  {
   "cell_type": "code",
   "execution_count": null,
   "id": "1669aeda-69e2-4047-9264-758731bd06cc",
   "metadata": {
    "scrolled": true
   },
   "outputs": [],
   "source": [
    "if 'host_response_rate' in df.columns and not df['host_response_rate'].mode().empty:\n",
    "    df['host_response_rate'] = df['host_response_rate'].fillna(df['host_response_rate'].mode()[0])\n",
    "\n",
    "df.head(10)"
   ]
  },
  {
   "cell_type": "markdown",
   "id": "a0321850-7320-4943-9664-10e14987a131",
   "metadata": {},
   "source": [
    "#### 3.9 Drop rows with missing value"
   ]
  },
  {
   "cell_type": "code",
   "execution_count": null,
   "id": "5e940507-cdae-47c7-b602-86ce811c89e2",
   "metadata": {
    "scrolled": true
   },
   "outputs": [],
   "source": [
    "essential_columns = [\n",
    "    'price', 'neighbourhood', 'neighbourhood_cleansed', 'property_type',\n",
    "    'bathrooms_text', 'host_has_profile_pic', 'bedrooms', 'beds'\n",
    "]\n",
    "\n",
    "for col in essential_columns:\n",
    "    if col in df.columns:\n",
    "        df = df.dropna(subset=[col])\n",
    "\n",
    "df.head(10)"
   ]
  },
  {
   "cell_type": "markdown",
   "id": "10883952-e813-4a20-b248-df69cff72b93",
   "metadata": {},
   "source": [
    "### 4.0 Searching for and removing duplicates"
   ]
  },
  {
   "cell_type": "code",
   "execution_count": null,
   "id": "52328989-84d8-45ae-bf70-8113554d9a78",
   "metadata": {},
   "outputs": [],
   "source": [
    "duplicate_rows = df[df.duplicated(keep=False)]\n",
    "print(f\"Number of duplicate rows: {duplicate_rows.shape[0]}\")"
   ]
  },
  {
   "cell_type": "markdown",
   "id": "a22d7448-2112-47e2-9670-5336c9c8c171",
   "metadata": {},
   "source": [
    "### 5.0 Save cleaned data"
   ]
  },
  {
   "cell_type": "markdown",
   "id": "6b7d77d3-b582-4314-8bcc-3a5713b31f44",
   "metadata": {},
   "source": [
    "#### 5.1 Save to csv"
   ]
  },
  {
   "cell_type": "code",
   "execution_count": null,
   "id": "5c7edf81-a7c1-4127-bc8b-1286bef9caa6",
   "metadata": {},
   "outputs": [],
   "source": [
    "CLEAN_CSV_PATH = \"../data/clean/amsterdam_airbnbs_clean_data.csv\"\n",
    "df.to_csv(CLEAN_CSV_PATH, index=False)\n",
    "print(f\"Cleaned data saved to CSV: {CLEAN_CSV_PATH}\")"
   ]
  },
  {
   "cell_type": "markdown",
   "id": "e73c9798-944e-4e42-8227-32ea62c5e0c7",
   "metadata": {},
   "source": [
    "#### 5.2 Save to sql database"
   ]
  },
  {
   "cell_type": "code",
   "execution_count": null,
   "id": "e16a358c-4ba0-42f3-9cf8-12d5210587d4",
   "metadata": {},
   "outputs": [],
   "source": [
    "config = DatabaseConfig()\n",
    "db = DatabaseConnection(config)\n",
    "\n",
    "TABLE_NAME = \"amsterdam_airbnbs_clean_data\"\n",
    "\n",
    "db.write_dataframe(df, TABLE_NAME, if_exists=\"replace\")"
   ]
  },
  {
   "cell_type": "code",
   "execution_count": null,
   "id": "2e48b40f-5c39-4121-b817-6f665a2135bc",
   "metadata": {},
   "outputs": [],
   "source": []
  },
  {
   "cell_type": "code",
   "execution_count": null,
   "id": "34ec71d2-1687-4f92-b007-ea7815bad991",
   "metadata": {},
   "outputs": [],
   "source": []
  },
  {
   "cell_type": "code",
   "execution_count": null,
   "id": "afa8a28a-a62e-44d0-ab5b-b19e593cabaf",
   "metadata": {},
   "outputs": [],
   "source": []
  },
  {
   "cell_type": "code",
   "execution_count": null,
   "id": "ed37ef0e-e50c-48ad-93f2-eb79aaa0a8e1",
   "metadata": {},
   "outputs": [],
   "source": []
  },
  {
   "cell_type": "code",
   "execution_count": null,
   "id": "2a545e7d-4e34-4642-82b9-e5ad548c6168",
   "metadata": {},
   "outputs": [],
   "source": []
  },
  {
   "cell_type": "code",
   "execution_count": null,
   "id": "de368b70-dd26-41d4-8bdf-1ca00a70cb6a",
   "metadata": {},
   "outputs": [],
   "source": []
  },
  {
   "cell_type": "code",
   "execution_count": null,
   "id": "925cb6b9-6c25-497c-9b48-ea2e92c9c0ab",
   "metadata": {},
   "outputs": [],
   "source": []
  },
  {
   "cell_type": "code",
   "execution_count": null,
   "id": "25af8119-ed4e-4163-8b43-8a4d39a0af6e",
   "metadata": {},
   "outputs": [],
   "source": []
  },
  {
   "cell_type": "code",
   "execution_count": null,
   "id": "14f6e8b3-27a5-4e93-b24a-59f3ba6d8440",
   "metadata": {},
   "outputs": [],
   "source": []
  },
  {
   "cell_type": "code",
   "execution_count": null,
   "id": "4678216d-a549-488d-930e-a0e0f18aed09",
   "metadata": {},
   "outputs": [],
   "source": []
  },
  {
   "cell_type": "code",
   "execution_count": null,
   "id": "40693ce7-74e0-4901-8c75-00ff8305d2c7",
   "metadata": {},
   "outputs": [],
   "source": []
  },
  {
   "cell_type": "code",
   "execution_count": null,
   "id": "114e54ea-f8d3-4e25-8ecc-899b9fec28a4",
   "metadata": {},
   "outputs": [],
   "source": []
  },
  {
   "cell_type": "code",
   "execution_count": null,
   "id": "4741a2e5-2d1d-4bcb-9756-a309d786ef28",
   "metadata": {},
   "outputs": [],
   "source": []
  },
  {
   "cell_type": "code",
   "execution_count": null,
   "id": "2aafb78d-bc1e-4bef-8983-eb68b26fed02",
   "metadata": {},
   "outputs": [],
   "source": []
  }
 ],
 "metadata": {
  "kernelspec": {
   "display_name": "Airbnb Project Kernel",
   "language": "python",
   "name": "airbnb-env"
  },
  "language_info": {
   "codemirror_mode": {
    "name": "ipython",
    "version": 3
   },
   "file_extension": ".py",
   "mimetype": "text/x-python",
   "name": "python",
   "nbconvert_exporter": "python",
   "pygments_lexer": "ipython3",
   "version": "3.13.2"
  }
 },
 "nbformat": 4,
 "nbformat_minor": 5
}
