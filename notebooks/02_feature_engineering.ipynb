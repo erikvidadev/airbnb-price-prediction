{
 "cells": [
  {
   "cell_type": "markdown",
   "id": "ae373713-137c-4a92-8cb5-e1d4a9d24845",
   "metadata": {},
   "source": [
    "# Feature engineering\n",
    "This step is about enriching the data. The best feature is not always the one provided by the dataset. We often need to create new variables or transform existing ones so that the model can learn better."
   ]
  },
  {
   "cell_type": "markdown",
   "id": "730c7c5b-3515-4c7b-9e9a-4863ee24e21b",
   "metadata": {},
   "source": [
    "## Why is it important? \n",
    "- The performance of a model often depends not on the algorithm, but on the features.\n",
    "- Good feature engineering = better predictive performance + easier interpretability."
   ]
  },
  {
   "cell_type": "markdown",
   "id": "2caac5dd-3c8f-4193-a42c-62eed3c64b6f",
   "metadata": {},
   "source": [
    "## What should it contain?\n",
    "- Creating new features (e.g., from date: month, season, weekend)\n",
    "- Coding categories (one-hot encoding, label encoding)\n",
    "- Scaling/normalization (so that variables are of similar magnitude)\n",
    "- Processing text variables (e.g., description → length, sentiment)\n",
    "- Feature selection: removing irrelevant/redundant features (e.g., highly correlated variables)"
   ]
  },
  {
   "cell_type": "markdown",
   "id": "f1e23c24-ab79-488d-9fbb-c374120cacb3",
   "metadata": {},
   "source": [
    "### 1.0 "
   ]
  }
 ],
 "metadata": {
  "kernelspec": {
   "display_name": "Airbnb Project Kernel",
   "language": "python",
   "name": "airbnb-env"
  },
  "language_info": {
   "codemirror_mode": {
    "name": "ipython",
    "version": 3
   },
   "file_extension": ".py",
   "mimetype": "text/x-python",
   "name": "python",
   "nbconvert_exporter": "python",
   "pygments_lexer": "ipython3",
   "version": "3.13.2"
  }
 },
 "nbformat": 4,
 "nbformat_minor": 5
}
