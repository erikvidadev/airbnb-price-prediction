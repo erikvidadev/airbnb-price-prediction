{
 "cells": [
  {
   "cell_type": "markdown",
   "id": "ae373713-137c-4a92-8cb5-e1d4a9d24845",
   "metadata": {},
   "source": [
    "# Feature engineering\n",
    "This step is about enriching the data. The best feature is not always the one provided by the dataset. We often need to create new variables or transform existing ones so that the model can learn better."
   ]
  },
  {
   "cell_type": "markdown",
   "id": "730c7c5b-3515-4c7b-9e9a-4863ee24e21b",
   "metadata": {},
   "source": [
    "## Why is it important? \n",
    "- The performance of a model often depends not on the algorithm, but on the features.\n",
    "- Good feature engineering = better predictive performance + easier interpretability."
   ]
  },
  {
   "cell_type": "markdown",
   "id": "2caac5dd-3c8f-4193-a42c-62eed3c64b6f",
   "metadata": {},
   "source": [
    "## Types of Features to Create and How to Approach Them\n",
    "- Creating new features (e.g., from date: month, season, weekend)\n",
    "- Coding categories (one-hot encoding, label encoding)\n",
    "- Scaling/normalization (so that variables are of similar magnitude)\n",
    "- Processing text variables (e.g., description → length, sentiment)\n",
    "- Feature selection: removing irrelevant/redundant features (e.g., highly correlated variables)"
   ]
  },
  {
   "cell_type": "markdown",
   "id": "70993c25-0ff9-4bbb-a713-b48dc7c1364d",
   "metadata": {},
   "source": [
    "### Setting Up Libraries and Environment for Feature Engineering"
   ]
  },
  {
   "cell_type": "code",
   "execution_count": null,
   "id": "0d6926fc-163b-4f0d-b588-c3defb393b5c",
   "metadata": {},
   "outputs": [],
   "source": [
    "import os\n",
    "import sys\n",
    "import re\n",
    "import nltk\n",
    "\n",
    "import pandas as pd\n",
    "import numpy as np\n",
    "from dotenv import load_dotenv\n",
    "from nltk.sentiment.vader import SentimentIntensityAnalyzer\n",
    "\n",
    "sia = SentimentIntensityAnalyzer()\n",
    "\n",
    "pd.set_option('display.max_columns', None) \n",
    "\n",
    "project_root = \"/Users/erikvida/PycharmProjects/airbnb-price-prediction\"\n",
    "if project_root not in sys.path:\n",
    "    sys.path.append(project_root)\n",
    "\n",
    "from src.db_connection import DatabaseConfig, DatabaseConnection\n",
    "\n",
    "\n",
    "dotenv_path = \"/Users/erikvida/PycharmProjects/airbnb-price-prediction/.env\"\n",
    "load_dotenv(dotenv_path)"
   ]
  },
  {
   "cell_type": "markdown",
   "id": "f17da0d8-2058-4cb9-8eb9-9636ecbff668",
   "metadata": {},
   "source": [
    "### 1.0 Loading Data and Initial Overview for Processing"
   ]
  },
  {
   "cell_type": "code",
   "execution_count": null,
   "id": "d3572b41-30a3-45ef-81cd-eb8b55251590",
   "metadata": {},
   "outputs": [],
   "source": [
    "amsterdams_airbnbs_cleaned_data = pd.read_csv(\"../data/cleaned/amsterdam_airbnbs_clean_data.csv\")\n",
    "df = amsterdams_airbnbs_cleaned_data\n",
    "df.head()"
   ]
  },
  {
   "cell_type": "markdown",
   "id": "232c3300-6375-4ecf-9657-28f93c5409a5",
   "metadata": {},
   "source": [
    "### 1.1 Inspecting and Understanding the Loaded Data"
   ]
  },
  {
   "cell_type": "code",
   "execution_count": null,
   "id": "989c09e1-f965-4ebf-ba25-005c7bdfb3b7",
   "metadata": {
    "scrolled": true
   },
   "outputs": [],
   "source": [
    "df.info()\n",
    "\n",
    "print(f\"Data loaded from: {data_path}\")\n",
    "print(f\"Number of rows: {df.shape[0]}, columns: {df.shape[1]}\")"
   ]
  },
  {
   "cell_type": "markdown",
   "id": "f1e23c24-ab79-488d-9fbb-c374120cacb3",
   "metadata": {},
   "source": [
    "### 2.0 Analyzing and Preparing Host-Level Features"
   ]
  },
  {
   "cell_type": "markdown",
   "id": "1590733f-f703-45e3-a87a-7d42163743dd",
   "metadata": {},
   "source": [
    "#### 2.1 Converting Percentage Strings to Numeric Values for Modeling."
   ]
  },
  {
   "cell_type": "code",
   "execution_count": null,
   "id": "4edb9e71-2284-470d-9c86-0f6807a43101",
   "metadata": {
    "scrolled": true
   },
   "outputs": [],
   "source": [
    "percent_cols = ['host_response_rate', 'host_acceptance_rate']  \n",
    "\n",
    "for col in percent_cols:\n",
    "    df[col] = (\n",
    "        df[col]\n",
    "        .astype(str)                 \n",
    "        .str.rstrip('%')            \n",
    "        .replace('nan', np.nan)      \n",
    "        .astype(float) / 100\n",
    "    )\n",
    "\n",
    "df.head()"
   ]
  },
  {
   "cell_type": "markdown",
   "id": "58b5c452-d6b2-444c-94e3-be9339daa1cb",
   "metadata": {},
   "source": [
    "#### 2.2  Converting Binary Features (True/False) to 0/1 for Easier Processing"
   ]
  },
  {
   "cell_type": "code",
   "execution_count": null,
   "id": "bb9b3fe4-eeca-40bb-8a28-734f5bd8e40c",
   "metadata": {
    "scrolled": true
   },
   "outputs": [],
   "source": [
    "binary_cols = ['host_is_superhost', 'host_has_profile_pic']\n",
    "\n",
    "for col in binary_cols:\n",
    "    df[col] = (\n",
    "        df[col]\n",
    "        .replace({'t': 1, 'f': 0, 'nan': np.nan})\n",
    "        .astype(int)   \n",
    "    )\n",
    "\n",
    "df.head()"
   ]
  },
  {
   "cell_type": "markdown",
   "id": "c0c0afd3-ac3e-4f7c-ade3-dbe95811636b",
   "metadata": {},
   "source": [
    "#### 2.3 Creating Host Experience Feature: Ratio of Total to Active Listings"
   ]
  },
  {
   "cell_type": "code",
   "execution_count": null,
   "id": "225f48cc-c06a-4087-8d30-0d8380a3e4a3",
   "metadata": {},
   "outputs": [],
   "source": [
    "df['host_experience_ratio'] = (\n",
    "    df['host_total_listings_count'] /\n",
    "    df['host_listings_count'].replace(0, np.nan)   \n",
    ")\n",
    "\n",
    "df['host_experience_ratio'] = df['host_experience_ratio'].fillna(0)\n",
    "\n",
    "df.head()\n"
   ]
  },
  {
   "cell_type": "markdown",
   "id": "3cd4494c-1338-4848-b8e3-e6a2ca527b72",
   "metadata": {},
   "source": [
    "#### 2.4 Save Processed Host Features to a Separate Table and CSV File"
   ]
  },
  {
   "cell_type": "code",
   "execution_count": null,
   "id": "c10ff652-b946-4215-97fe-72dc0d9538fc",
   "metadata": {},
   "outputs": [],
   "source": [
    "host_features_df = df[['host_response_rate',\n",
    "              'host_acceptance_rate',\n",
    "              'host_is_superhost',\n",
    "              'host_listings_count',  \n",
    "              'host_total_listings_count',\n",
    "              'host_has_profile_pic',\n",
    "              'host_experience_ratio']]\n",
    "\n",
    "\n",
    "config = DatabaseConfig()\n",
    "db = DatabaseConnection(config)\n",
    "\n",
    "TABLE_NAME = \"host_features\"\n",
    "\n",
    "db.write_dataframe(host_features_df, TABLE_NAME, if_exists=\"replace\")\n",
    "\n",
    "host_features_path = \"../data/processed/host_features.csv\"\n",
    "df.to_csv(host_features_path, index=False)\n",
    "print(f\"Cleaned data saved to CSV: {host_features_path}\")"
   ]
  },
  {
   "cell_type": "markdown",
   "id": "c0b8ee2a-0846-4c48-8d11-d8e4aecd97e0",
   "metadata": {},
   "source": [
    "### 3.0 Location and Neighborhood based features"
   ]
  },
  {
   "cell_type": "markdown",
   "id": "18e9a443-fcc9-4eea-adf5-ac6171bd5ac3",
   "metadata": {},
   "source": [
    "#### Encoding and Ranking Neighbourhood Features for Location-Based Price Patterns"
   ]
  },
  {
   "cell_type": "code",
   "execution_count": null,
   "id": "a6df5def-412a-4b9b-96d4-9147c3ebbe52",
   "metadata": {
    "scrolled": true
   },
   "outputs": [],
   "source": [
    "unique_neighbourhoods = df[\"neighbourhood_cleansed\"].unique()\n",
    "\n",
    "neighbourhood_dict = {name: i+1 for i, name in enumerate(unique_neighbourhoods)}\n",
    "\n",
    "df['neighbourhood_rank'] = df['neighbourhood_cleansed'].map(neighbourhood_dict)\n",
    "\n",
    "df.head()"
   ]
  },
  {
   "cell_type": "markdown",
   "id": "bc7b60ba-6f89-4a20-aac5-c240033b8512",
   "metadata": {},
   "source": [
    "#### 3.2 Save Processed Location Features to a Separate Table and CSV File"
   ]
  },
  {
   "cell_type": "code",
   "execution_count": null,
   "id": "70293100-6188-4689-84bf-e826c9311143",
   "metadata": {},
   "outputs": [],
   "source": [
    "location_features_df = df[['neighbourhood','neighbourhood_cleansed','neighbourhood_rank']]\n",
    "\n",
    "\n",
    "config = DatabaseConfig()\n",
    "db = DatabaseConnection(config)\n",
    "\n",
    "TABLE_NAME = \"location_features\"\n",
    "\n",
    "db.write_dataframe(location_features_df, TABLE_NAME, if_exists=\"replace\")\n",
    "\n",
    "location_features_path = \"../data/processed/location_features.csv\"\n",
    "df.to_csv(location_features_path, index=False)\n",
    "print(f\"Cleaned data saved to CSV: {location_features_path}\")"
   ]
  },
  {
   "cell_type": "markdown",
   "id": "4e3eeea3-a269-4824-9804-c5286138622c",
   "metadata": {},
   "source": [
    "### 4.0 Proprerty Type Features"
   ]
  },
  {
   "cell_type": "markdown",
   "id": "706e88d9-feec-4be5-83ee-294eb9af4f17",
   "metadata": {},
   "source": [
    "#### 4.1 Encoding and Ranking Property Type Features "
   ]
  },
  {
   "cell_type": "code",
   "execution_count": null,
   "id": "f5276c00-3b93-425e-9124-ec210b30d230",
   "metadata": {},
   "outputs": [],
   "source": [
    "unique_property_types = sorted(df[\"property_type\"].unique())\n",
    "unique_room_types = sorted(df[\"room_type\"].unique())\n",
    "\n",
    "property_type_dict = {name: i+1 for i, name in enumerate(unique_property_types)}\n",
    "room_type_dict = {name: i+1 for i, name in enumerate(unique_room_types)}\n",
    "\n",
    "df['property_type_id'] = df['property_type'].map(property_type_dict)\n",
    "df['room_type_id'] = df['room_type'].map(room_type_dict)\n",
    "\n",
    "df.head()"
   ]
  },
  {
   "cell_type": "markdown",
   "id": "b71514c7-d62f-4d10-be40-1f6fef777839",
   "metadata": {},
   "source": [
    "#### 4.2 Bedroom Bath Ratio"
   ]
  },
  {
   "cell_type": "code",
   "execution_count": null,
   "id": "1ef6f8f4-1b28-4d25-93d2-92801f09eb92",
   "metadata": {},
   "outputs": [],
   "source": [
    "df['bedroom_bath_ratio'] = df['bedrooms'] / df['bathrooms']\n",
    "\n",
    "df.head()"
   ]
  },
  {
   "cell_type": "markdown",
   "id": "9fde988d-a120-4c19-8767-5ed66cafdcd5",
   "metadata": {},
   "source": [
    "#### 4.3 People per Bed"
   ]
  },
  {
   "cell_type": "code",
   "execution_count": null,
   "id": "ad15de8e-4556-48ad-8d00-59ee9a5826a5",
   "metadata": {},
   "outputs": [],
   "source": [
    "df['people_per_bed'] = df['accommodates'] / df['beds']\n",
    "\n",
    "df.head()"
   ]
  },
  {
   "cell_type": "markdown",
   "id": "64faf789-0e3c-492b-b3a8-ecbc4889f75f",
   "metadata": {},
   "source": [
    "#### 4.4 Number of Total Rooms"
   ]
  },
  {
   "cell_type": "code",
   "execution_count": null,
   "id": "629a0ac8-b447-4517-bfd2-e92f72c818f9",
   "metadata": {},
   "outputs": [],
   "source": [
    "def parse_bathrooms(text):\n",
    "    if pd.isna(text):\n",
    "        return np.nan\n",
    "    if 'Half' in text:\n",
    "        return 0.5\n",
    "    else:\n",
    "        match = re.search(r'\\d+(\\.\\d+)?', text)\n",
    "        return float(match.group()) if match else np.nan\n",
    "\n",
    "df['bathrooms'] = df['bathrooms_text'].apply(parse_bathrooms)\n",
    "\n",
    "df['rooms_total'] = df['bedrooms'] + df['bathrooms']\n",
    "\n",
    "df.head()"
   ]
  },
  {
   "cell_type": "markdown",
   "id": "b029ff6c-3891-4001-ba19-5a3e675e4fc4",
   "metadata": {},
   "source": [
    "#### 4.5 Save Processed Property Features to a Separate Table and CSV File"
   ]
  },
  {
   "cell_type": "code",
   "execution_count": null,
   "id": "7167a6fb-3c80-4f04-9bef-c6c9637331e3",
   "metadata": {},
   "outputs": [],
   "source": [
    "property_features_df = df[[\n",
    "    \"property_type\",\n",
    "    \"room_type\",\n",
    "    \"accommodates\",\n",
    "    \"bathrooms\",\n",
    "    \"bathrooms_text\",\n",
    "    \"bedrooms\",\n",
    "    \"beds\",\n",
    "    \"bedroom_bath_ratio\",\n",
    "    \"people_per_bed\",\n",
    "    \"rooms_total\"\n",
    "]]\n",
    "\n",
    "\n",
    "config = DatabaseConfig()\n",
    "db = DatabaseConnection(config)\n",
    "\n",
    "TABLE_NAME = \"property_features\"\n",
    "\n",
    "db.write_dataframe(property_features_df, TABLE_NAME, if_exists=\"replace\")\n",
    "\n",
    "property_features_df_path = \"../data/processed/property_features.csv\"\n",
    "\n",
    "df.to_csv(property_features_df_path, index=False)\n",
    "print(f\"Cleaned data saved to CSV: {property_features_df_path}\")"
   ]
  },
  {
   "cell_type": "markdown",
   "id": "a9043069-d228-4b35-bc26-abd5bc78434f",
   "metadata": {},
   "source": [
    "### 5.0 Sentiment Anlysis"
   ]
  },
  {
   "cell_type": "code",
   "execution_count": null,
   "id": "54e0ace6-066e-42e0-b198-31a616b05260",
   "metadata": {},
   "outputs": [],
   "source": [
    "def get_sentiment_vader(text):\n",
    "    return sia.polarity_scores(str(text))['compound']\n",
    "\n",
    "df['description_sentiment'] = df['description'].apply(get_sentiment_vader)\n",
    "df['amenities_sentiment'] = df['amenities'].apply(get_sentiment_vader)\n",
    "\n",
    "def sentiment_label_vader(compound):\n",
    "    if compound >= 0.05:\n",
    "        return \"positive\"\n",
    "    elif compound <= -0.05:\n",
    "        return \"negative\"\n",
    "    else:\n",
    "        return \"neutral\"\n",
    "\n",
    "df['description_sentiment_label'] = df['description_sentiment'].apply(sentiment_label_vader)\n",
    "df['amenities_sentiment_label'] = df['amenities_sentiment'].apply(sentiment_label_vader)\n",
    "\n",
    "df.head()"
   ]
  },
  {
   "cell_type": "markdown",
   "id": "28694b25-1c8b-41ae-b3f8-f372c007b108",
   "metadata": {},
   "source": [
    "### 6.0 Reorder Rows and Save to New Table and new CSV File"
   ]
  },
  {
   "cell_type": "code",
   "execution_count": null,
   "id": "dab7caa4-f147-4829-8cdb-d7efcd9a286a",
   "metadata": {},
   "outputs": [],
   "source": [
    "featured_df = df[[\n",
    "    # 1. Basic info\n",
    "    'id', 'name', 'description', 'description_sentiment', 'description_sentiment_label',\n",
    "    \n",
    "    # 2. Host info\n",
    "    'host_response_rate', 'host_acceptance_rate', 'host_is_superhost',\n",
    "    'host_listings_count', 'host_total_listings_count', 'host_has_profile_pic', 'host_experience_ratio',\n",
    "    \n",
    "    # 3. Location\n",
    "    'neighbourhood', 'neighbourhood_cleansed', 'neighbourhood_rank',\n",
    "    \n",
    "    # 4. Property features\n",
    "    'property_type', 'room_type', 'property_type_id', 'room_type_id',\n",
    "    'accommodates', 'bathrooms', 'bathrooms_text', 'bedrooms', 'beds',\n",
    "    'bedroom_bath_ratio', 'people_per_bed', 'rooms_total',\n",
    "    \n",
    "    # 5. Amenities\n",
    "    'amenities', 'amenities_sentiment', 'amenities_sentiment_label',\n",
    "    \n",
    "    # 6. Price & availability\n",
    "    'price', 'minimum_nights', 'maximum_nights', 'minimum_minimum_nights', 'maximum_minimum_nights',\n",
    "    'minimum_maximum_nights', 'maximum_maximum_nights', 'minimum_nights_avg_ntm', 'maximum_nights_avg_ntm',\n",
    "    \n",
    "    # 7. Reviews\n",
    "    'number_of_reviews', 'number_of_reviews_ltm', 'number_of_reviews_l30d', 'number_of_reviews_ly',\n",
    "    'review_scores_rating', 'review_scores_accuracy', 'review_scores_cleanliness', 'review_scores_checkin',\n",
    "    'review_scores_communication', 'review_scores_location', 'review_scores_value', 'instant_bookable',\n",
    "    \n",
    "    \n",
    "]]\n",
    "\n",
    "config = DatabaseConfig()\n",
    "db = DatabaseConnection(config)\n",
    "\n",
    "TABLE_NAME = \"feature_eningineered_data\"\n",
    "\n",
    "db.write_dataframe(featured_df, TABLE_NAME, if_exists=\"replace\")\n",
    "\n",
    "featured_df_path = \"../data/processed/amsterdam_airbnbs_feature_engineered_data.csv\"\n",
    "\n",
    "df.to_csv(featured_df_path, index=False)\n",
    "print(f\"Cleaned data saved to CSV: {featured_df_path}\")"
   ]
  }
 ],
 "metadata": {
  "kernelspec": {
   "display_name": "Airbnb Project Kernel",
   "language": "python",
   "name": "airbnb-env"
  },
  "language_info": {
   "codemirror_mode": {
    "name": "ipython",
    "version": 3
   },
   "file_extension": ".py",
   "mimetype": "text/x-python",
   "name": "python",
   "nbconvert_exporter": "python",
   "pygments_lexer": "ipython3",
   "version": "3.13.2"
  }
 },
 "nbformat": 4,
 "nbformat_minor": 5
}
