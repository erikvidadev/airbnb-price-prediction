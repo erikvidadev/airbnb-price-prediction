{
 "cells": [
  {
   "cell_type": "markdown",
   "id": "ae373713-137c-4a92-8cb5-e1d4a9d24845",
   "metadata": {},
   "source": [
    "# Feature engineering\n",
    "This step is about enriching the data. The best feature is not always the one provided by the dataset. We often need to create new variables or transform existing ones so that the model can learn better."
   ]
  },
  {
   "cell_type": "markdown",
   "id": "730c7c5b-3515-4c7b-9e9a-4863ee24e21b",
   "metadata": {},
   "source": [
    "## Why is it important? \n",
    "- The performance of a model often depends not on the algorithm, but on the features.\n",
    "- Good feature engineering = better predictive performance + easier interpretability."
   ]
  },
  {
   "cell_type": "markdown",
   "id": "2caac5dd-3c8f-4193-a42c-62eed3c64b6f",
   "metadata": {},
   "source": [
    "## Types of Features to Create and How to Approach Them\n",
    "- Creating new features (e.g., from date: month, season, weekend)\n",
    "- Coding categories (one-hot encoding, label encoding)\n",
    "- Scaling/normalization (so that variables are of similar magnitude)\n",
    "- Processing text variables (e.g., description → length, sentiment)\n",
    "- Feature selection: removing irrelevant/redundant features (e.g., highly correlated variables)"
   ]
  },
  {
   "cell_type": "markdown",
   "id": "70993c25-0ff9-4bbb-a713-b48dc7c1364d",
   "metadata": {},
   "source": [
    "### Setting Up Libraries and Environment for Feature Engineering"
   ]
  },
  {
   "cell_type": "code",
   "execution_count": 1,
   "id": "0d6926fc-163b-4f0d-b588-c3defb393b5c",
   "metadata": {},
   "outputs": [
    {
     "data": {
      "text/plain": [
       "True"
      ]
     },
     "execution_count": 1,
     "metadata": {},
     "output_type": "execute_result"
    }
   ],
   "source": [
    "import os\n",
    "import sys\n",
    "import re\n",
    "import nltk\n",
    "\n",
    "import pandas as pd\n",
    "import numpy as np\n",
    "from dotenv import load_dotenv\n",
    "from nltk.sentiment.vader import SentimentIntensityAnalyzer\n",
    "\n",
    "sia = SentimentIntensityAnalyzer()\n",
    "\n",
    "pd.set_option('display.max_columns', None) \n",
    "\n",
    "project_root = \"/Users/erikvida/PycharmProjects/airbnb-price-prediction\"\n",
    "if project_root not in sys.path:\n",
    "    sys.path.append(project_root)\n",
    "\n",
    "from src.db_connection import DatabaseConfig, DatabaseConnection\n",
    "\n",
    "\n",
    "dotenv_path = \"/Users/erikvida/PycharmProjects/airbnb-price-prediction/.env\"\n",
    "load_dotenv(dotenv_path)"
   ]
  },
  {
   "cell_type": "markdown",
   "id": "f17da0d8-2058-4cb9-8eb9-9636ecbff668",
   "metadata": {},
   "source": [
    "### 1.0 Loading Data and Initial Overview for Processing"
   ]
  },
  {
   "cell_type": "code",
   "execution_count": 2,
   "id": "d3572b41-30a3-45ef-81cd-eb8b55251590",
   "metadata": {},
   "outputs": [
    {
     "data": {
      "text/html": [
       "<div>\n",
       "<style scoped>\n",
       "    .dataframe tbody tr th:only-of-type {\n",
       "        vertical-align: middle;\n",
       "    }\n",
       "\n",
       "    .dataframe tbody tr th {\n",
       "        vertical-align: top;\n",
       "    }\n",
       "\n",
       "    .dataframe thead th {\n",
       "        text-align: right;\n",
       "    }\n",
       "</style>\n",
       "<table border=\"1\" class=\"dataframe\">\n",
       "  <thead>\n",
       "    <tr style=\"text-align: right;\">\n",
       "      <th></th>\n",
       "      <th>id</th>\n",
       "      <th>name</th>\n",
       "      <th>description</th>\n",
       "      <th>host_response_rate</th>\n",
       "      <th>host_acceptance_rate</th>\n",
       "      <th>host_is_superhost</th>\n",
       "      <th>host_listings_count</th>\n",
       "      <th>host_total_listings_count</th>\n",
       "      <th>host_has_profile_pic</th>\n",
       "      <th>neighbourhood</th>\n",
       "      <th>neighbourhood_cleansed</th>\n",
       "      <th>property_type</th>\n",
       "      <th>room_type</th>\n",
       "      <th>accommodates</th>\n",
       "      <th>bathrooms</th>\n",
       "      <th>bathrooms_text</th>\n",
       "      <th>bedrooms</th>\n",
       "      <th>beds</th>\n",
       "      <th>amenities</th>\n",
       "      <th>price</th>\n",
       "      <th>minimum_nights</th>\n",
       "      <th>maximum_nights</th>\n",
       "      <th>minimum_minimum_nights</th>\n",
       "      <th>maximum_minimum_nights</th>\n",
       "      <th>minimum_maximum_nights</th>\n",
       "      <th>maximum_maximum_nights</th>\n",
       "      <th>minimum_nights_avg_ntm</th>\n",
       "      <th>maximum_nights_avg_ntm</th>\n",
       "      <th>number_of_reviews</th>\n",
       "      <th>number_of_reviews_ltm</th>\n",
       "      <th>number_of_reviews_l30d</th>\n",
       "      <th>number_of_reviews_ly</th>\n",
       "      <th>review_scores_rating</th>\n",
       "      <th>review_scores_accuracy</th>\n",
       "      <th>review_scores_cleanliness</th>\n",
       "      <th>review_scores_checkin</th>\n",
       "      <th>review_scores_communication</th>\n",
       "      <th>review_scores_location</th>\n",
       "      <th>review_scores_value</th>\n",
       "      <th>instant_bookable</th>\n",
       "    </tr>\n",
       "  </thead>\n",
       "  <tbody>\n",
       "    <tr>\n",
       "      <th>0</th>\n",
       "      <td>27886</td>\n",
       "      <td>Romantic, stylish B&amp;B houseboat in canal district</td>\n",
       "      <td>Stylish and romantic houseboat on fantastic hi...</td>\n",
       "      <td>100%</td>\n",
       "      <td>98%</td>\n",
       "      <td>t</td>\n",
       "      <td>1.0</td>\n",
       "      <td>1.0</td>\n",
       "      <td>t</td>\n",
       "      <td>Amsterdam, North Holland, Netherlands</td>\n",
       "      <td>Centrum-West</td>\n",
       "      <td>Private room in houseboat</td>\n",
       "      <td>Private room</td>\n",
       "      <td>2</td>\n",
       "      <td>1.5</td>\n",
       "      <td>1.5 baths</td>\n",
       "      <td>1.0</td>\n",
       "      <td>1.0</td>\n",
       "      <td>[\"Coffee maker: Nespresso\", \"Shampoo\", \"Paid s...</td>\n",
       "      <td>$132.00</td>\n",
       "      <td>3</td>\n",
       "      <td>356</td>\n",
       "      <td>3</td>\n",
       "      <td>3</td>\n",
       "      <td>30</td>\n",
       "      <td>30</td>\n",
       "      <td>3.0</td>\n",
       "      <td>30.0</td>\n",
       "      <td>302</td>\n",
       "      <td>28</td>\n",
       "      <td>1</td>\n",
       "      <td>26</td>\n",
       "      <td>4.92</td>\n",
       "      <td>4.90</td>\n",
       "      <td>4.94</td>\n",
       "      <td>4.95</td>\n",
       "      <td>4.92</td>\n",
       "      <td>4.90</td>\n",
       "      <td>4.78</td>\n",
       "      <td>f</td>\n",
       "    </tr>\n",
       "    <tr>\n",
       "      <th>1</th>\n",
       "      <td>28871</td>\n",
       "      <td>Comfortable double room</td>\n",
       "      <td>Basic bedroom in the center of Amsterdam.</td>\n",
       "      <td>100%</td>\n",
       "      <td>99%</td>\n",
       "      <td>t</td>\n",
       "      <td>2.0</td>\n",
       "      <td>2.0</td>\n",
       "      <td>t</td>\n",
       "      <td>Amsterdam, North Holland, Netherlands</td>\n",
       "      <td>Centrum-West</td>\n",
       "      <td>Private room in rental unit</td>\n",
       "      <td>Private room</td>\n",
       "      <td>2</td>\n",
       "      <td>1.0</td>\n",
       "      <td>1 shared bath</td>\n",
       "      <td>1.0</td>\n",
       "      <td>1.0</td>\n",
       "      <td>[\"Carbon monoxide alarm\", \"Wifi\", \"Heating\", \"...</td>\n",
       "      <td>$78.00</td>\n",
       "      <td>2</td>\n",
       "      <td>730</td>\n",
       "      <td>1</td>\n",
       "      <td>2</td>\n",
       "      <td>730</td>\n",
       "      <td>730</td>\n",
       "      <td>2.0</td>\n",
       "      <td>730.0</td>\n",
       "      <td>710</td>\n",
       "      <td>93</td>\n",
       "      <td>9</td>\n",
       "      <td>96</td>\n",
       "      <td>4.88</td>\n",
       "      <td>4.90</td>\n",
       "      <td>4.87</td>\n",
       "      <td>4.94</td>\n",
       "      <td>4.94</td>\n",
       "      <td>4.94</td>\n",
       "      <td>4.84</td>\n",
       "      <td>f</td>\n",
       "    </tr>\n",
       "    <tr>\n",
       "      <th>2</th>\n",
       "      <td>29051</td>\n",
       "      <td>Comfortable single / double room</td>\n",
       "      <td>This room can also be rented as a single or a ...</td>\n",
       "      <td>100%</td>\n",
       "      <td>99%</td>\n",
       "      <td>t</td>\n",
       "      <td>2.0</td>\n",
       "      <td>2.0</td>\n",
       "      <td>t</td>\n",
       "      <td>Amsterdam, North Holland, Netherlands</td>\n",
       "      <td>Centrum-Oost</td>\n",
       "      <td>Private room in condo</td>\n",
       "      <td>Private room</td>\n",
       "      <td>2</td>\n",
       "      <td>1.0</td>\n",
       "      <td>1 shared bath</td>\n",
       "      <td>1.0</td>\n",
       "      <td>1.0</td>\n",
       "      <td>[\"Carbon monoxide alarm\", \"Wifi\", \"Heating\", \"...</td>\n",
       "      <td>$70.00</td>\n",
       "      <td>2</td>\n",
       "      <td>730</td>\n",
       "      <td>1</td>\n",
       "      <td>2</td>\n",
       "      <td>730</td>\n",
       "      <td>730</td>\n",
       "      <td>2.0</td>\n",
       "      <td>730.0</td>\n",
       "      <td>822</td>\n",
       "      <td>86</td>\n",
       "      <td>7</td>\n",
       "      <td>88</td>\n",
       "      <td>4.81</td>\n",
       "      <td>4.88</td>\n",
       "      <td>4.83</td>\n",
       "      <td>4.93</td>\n",
       "      <td>4.92</td>\n",
       "      <td>4.87</td>\n",
       "      <td>4.79</td>\n",
       "      <td>f</td>\n",
       "    </tr>\n",
       "    <tr>\n",
       "      <th>3</th>\n",
       "      <td>47061</td>\n",
       "      <td>Charming apartment in old centre</td>\n",
       "      <td>A beautiful, quiet apartment in the center of ...</td>\n",
       "      <td>100%</td>\n",
       "      <td>50%</td>\n",
       "      <td>f</td>\n",
       "      <td>1.0</td>\n",
       "      <td>2.0</td>\n",
       "      <td>t</td>\n",
       "      <td>Amsterdam, Noord-Holland, Netherlands</td>\n",
       "      <td>De Baarsjes - Oud-West</td>\n",
       "      <td>Entire rental unit</td>\n",
       "      <td>Entire home/apt</td>\n",
       "      <td>3</td>\n",
       "      <td>1.5</td>\n",
       "      <td>1.5 baths</td>\n",
       "      <td>2.0</td>\n",
       "      <td>2.0</td>\n",
       "      <td>[\"Shampoo\", \"Paid street parking off premises\"...</td>\n",
       "      <td>$120.00</td>\n",
       "      <td>2</td>\n",
       "      <td>20</td>\n",
       "      <td>2</td>\n",
       "      <td>2</td>\n",
       "      <td>20</td>\n",
       "      <td>20</td>\n",
       "      <td>2.0</td>\n",
       "      <td>20.0</td>\n",
       "      <td>203</td>\n",
       "      <td>5</td>\n",
       "      <td>1</td>\n",
       "      <td>6</td>\n",
       "      <td>4.77</td>\n",
       "      <td>4.78</td>\n",
       "      <td>4.61</td>\n",
       "      <td>4.76</td>\n",
       "      <td>4.90</td>\n",
       "      <td>4.85</td>\n",
       "      <td>4.63</td>\n",
       "      <td>f</td>\n",
       "    </tr>\n",
       "    <tr>\n",
       "      <th>4</th>\n",
       "      <td>49552</td>\n",
       "      <td>Multatuli Luxury Guest Suite in top location</td>\n",
       "      <td>Stylish &amp; spacious 60m2 guest suite in Amsterd...</td>\n",
       "      <td>100%</td>\n",
       "      <td>92%</td>\n",
       "      <td>t</td>\n",
       "      <td>1.0</td>\n",
       "      <td>2.0</td>\n",
       "      <td>t</td>\n",
       "      <td>Amsterdam, North Holland, Netherlands</td>\n",
       "      <td>Centrum-West</td>\n",
       "      <td>Entire guest suite</td>\n",
       "      <td>Entire home/apt</td>\n",
       "      <td>3</td>\n",
       "      <td>1.0</td>\n",
       "      <td>1 bath</td>\n",
       "      <td>2.0</td>\n",
       "      <td>2.0</td>\n",
       "      <td>[\"Marie Stella Maris body soap\", \"Coffee maker...</td>\n",
       "      <td>$284.00</td>\n",
       "      <td>3</td>\n",
       "      <td>1125</td>\n",
       "      <td>1</td>\n",
       "      <td>4</td>\n",
       "      <td>1125</td>\n",
       "      <td>1125</td>\n",
       "      <td>3.0</td>\n",
       "      <td>1125.0</td>\n",
       "      <td>599</td>\n",
       "      <td>56</td>\n",
       "      <td>8</td>\n",
       "      <td>58</td>\n",
       "      <td>4.93</td>\n",
       "      <td>4.93</td>\n",
       "      <td>4.93</td>\n",
       "      <td>4.96</td>\n",
       "      <td>4.97</td>\n",
       "      <td>4.98</td>\n",
       "      <td>4.78</td>\n",
       "      <td>f</td>\n",
       "    </tr>\n",
       "  </tbody>\n",
       "</table>\n",
       "</div>"
      ],
      "text/plain": [
       "      id                                               name  \\\n",
       "0  27886  Romantic, stylish B&B houseboat in canal district   \n",
       "1  28871                            Comfortable double room   \n",
       "2  29051                   Comfortable single / double room   \n",
       "3  47061                   Charming apartment in old centre   \n",
       "4  49552       Multatuli Luxury Guest Suite in top location   \n",
       "\n",
       "                                         description host_response_rate  \\\n",
       "0  Stylish and romantic houseboat on fantastic hi...               100%   \n",
       "1          Basic bedroom in the center of Amsterdam.               100%   \n",
       "2  This room can also be rented as a single or a ...               100%   \n",
       "3  A beautiful, quiet apartment in the center of ...               100%   \n",
       "4  Stylish & spacious 60m2 guest suite in Amsterd...               100%   \n",
       "\n",
       "  host_acceptance_rate host_is_superhost  host_listings_count  \\\n",
       "0                  98%                 t                  1.0   \n",
       "1                  99%                 t                  2.0   \n",
       "2                  99%                 t                  2.0   \n",
       "3                  50%                 f                  1.0   \n",
       "4                  92%                 t                  1.0   \n",
       "\n",
       "   host_total_listings_count host_has_profile_pic  \\\n",
       "0                        1.0                    t   \n",
       "1                        2.0                    t   \n",
       "2                        2.0                    t   \n",
       "3                        2.0                    t   \n",
       "4                        2.0                    t   \n",
       "\n",
       "                           neighbourhood  neighbourhood_cleansed  \\\n",
       "0  Amsterdam, North Holland, Netherlands            Centrum-West   \n",
       "1  Amsterdam, North Holland, Netherlands            Centrum-West   \n",
       "2  Amsterdam, North Holland, Netherlands            Centrum-Oost   \n",
       "3  Amsterdam, Noord-Holland, Netherlands  De Baarsjes - Oud-West   \n",
       "4  Amsterdam, North Holland, Netherlands            Centrum-West   \n",
       "\n",
       "                 property_type        room_type  accommodates  bathrooms  \\\n",
       "0    Private room in houseboat     Private room             2        1.5   \n",
       "1  Private room in rental unit     Private room             2        1.0   \n",
       "2        Private room in condo     Private room             2        1.0   \n",
       "3           Entire rental unit  Entire home/apt             3        1.5   \n",
       "4           Entire guest suite  Entire home/apt             3        1.0   \n",
       "\n",
       "  bathrooms_text  bedrooms  beds  \\\n",
       "0      1.5 baths       1.0   1.0   \n",
       "1  1 shared bath       1.0   1.0   \n",
       "2  1 shared bath       1.0   1.0   \n",
       "3      1.5 baths       2.0   2.0   \n",
       "4         1 bath       2.0   2.0   \n",
       "\n",
       "                                           amenities    price  minimum_nights  \\\n",
       "0  [\"Coffee maker: Nespresso\", \"Shampoo\", \"Paid s...  $132.00               3   \n",
       "1  [\"Carbon monoxide alarm\", \"Wifi\", \"Heating\", \"...   $78.00               2   \n",
       "2  [\"Carbon monoxide alarm\", \"Wifi\", \"Heating\", \"...   $70.00               2   \n",
       "3  [\"Shampoo\", \"Paid street parking off premises\"...  $120.00               2   \n",
       "4  [\"Marie Stella Maris body soap\", \"Coffee maker...  $284.00               3   \n",
       "\n",
       "   maximum_nights  minimum_minimum_nights  maximum_minimum_nights  \\\n",
       "0             356                       3                       3   \n",
       "1             730                       1                       2   \n",
       "2             730                       1                       2   \n",
       "3              20                       2                       2   \n",
       "4            1125                       1                       4   \n",
       "\n",
       "   minimum_maximum_nights  maximum_maximum_nights  minimum_nights_avg_ntm  \\\n",
       "0                      30                      30                     3.0   \n",
       "1                     730                     730                     2.0   \n",
       "2                     730                     730                     2.0   \n",
       "3                      20                      20                     2.0   \n",
       "4                    1125                    1125                     3.0   \n",
       "\n",
       "   maximum_nights_avg_ntm  number_of_reviews  number_of_reviews_ltm  \\\n",
       "0                    30.0                302                     28   \n",
       "1                   730.0                710                     93   \n",
       "2                   730.0                822                     86   \n",
       "3                    20.0                203                      5   \n",
       "4                  1125.0                599                     56   \n",
       "\n",
       "   number_of_reviews_l30d  number_of_reviews_ly  review_scores_rating  \\\n",
       "0                       1                    26                  4.92   \n",
       "1                       9                    96                  4.88   \n",
       "2                       7                    88                  4.81   \n",
       "3                       1                     6                  4.77   \n",
       "4                       8                    58                  4.93   \n",
       "\n",
       "   review_scores_accuracy  review_scores_cleanliness  review_scores_checkin  \\\n",
       "0                    4.90                       4.94                   4.95   \n",
       "1                    4.90                       4.87                   4.94   \n",
       "2                    4.88                       4.83                   4.93   \n",
       "3                    4.78                       4.61                   4.76   \n",
       "4                    4.93                       4.93                   4.96   \n",
       "\n",
       "   review_scores_communication  review_scores_location  review_scores_value  \\\n",
       "0                         4.92                    4.90                 4.78   \n",
       "1                         4.94                    4.94                 4.84   \n",
       "2                         4.92                    4.87                 4.79   \n",
       "3                         4.90                    4.85                 4.63   \n",
       "4                         4.97                    4.98                 4.78   \n",
       "\n",
       "  instant_bookable  \n",
       "0                f  \n",
       "1                f  \n",
       "2                f  \n",
       "3                f  \n",
       "4                f  "
      ]
     },
     "execution_count": 2,
     "metadata": {},
     "output_type": "execute_result"
    }
   ],
   "source": [
    "amsterdams_airbnbs_cleaned_data = pd.read_csv(\"../data/cleaned/amsterdam_airbnbs_clean_data.csv\")\n",
    "df = amsterdams_airbnbs_cleaned_data\n",
    "df.head()"
   ]
  },
  {
   "cell_type": "markdown",
   "id": "232c3300-6375-4ecf-9657-28f93c5409a5",
   "metadata": {},
   "source": [
    "### 1.1 Inspecting and Understanding the Loaded Data"
   ]
  },
  {
   "cell_type": "code",
   "execution_count": 3,
   "id": "989c09e1-f965-4ebf-ba25-005c7bdfb3b7",
   "metadata": {
    "scrolled": true
   },
   "outputs": [
    {
     "name": "stdout",
     "output_type": "stream",
     "text": [
      "<class 'pandas.core.frame.DataFrame'>\n",
      "RangeIndex: 6097 entries, 0 to 6096\n",
      "Data columns (total 40 columns):\n",
      " #   Column                       Non-Null Count  Dtype  \n",
      "---  ------                       --------------  -----  \n",
      " 0   id                           6097 non-null   int64  \n",
      " 1   name                         6097 non-null   object \n",
      " 2   description                  6097 non-null   object \n",
      " 3   host_response_rate           6097 non-null   object \n",
      " 4   host_acceptance_rate         6097 non-null   object \n",
      " 5   host_is_superhost            6097 non-null   object \n",
      " 6   host_listings_count          6097 non-null   float64\n",
      " 7   host_total_listings_count    6097 non-null   float64\n",
      " 8   host_has_profile_pic         6097 non-null   object \n",
      " 9   neighbourhood                6097 non-null   object \n",
      " 10  neighbourhood_cleansed       6097 non-null   object \n",
      " 11  property_type                6097 non-null   object \n",
      " 12  room_type                    6097 non-null   object \n",
      " 13  accommodates                 6097 non-null   int64  \n",
      " 14  bathrooms                    6097 non-null   float64\n",
      " 15  bathrooms_text               6097 non-null   object \n",
      " 16  bedrooms                     6097 non-null   float64\n",
      " 17  beds                         6097 non-null   float64\n",
      " 18  amenities                    6097 non-null   object \n",
      " 19  price                        6097 non-null   object \n",
      " 20  minimum_nights               6097 non-null   int64  \n",
      " 21  maximum_nights               6097 non-null   int64  \n",
      " 22  minimum_minimum_nights       6097 non-null   int64  \n",
      " 23  maximum_minimum_nights       6097 non-null   int64  \n",
      " 24  minimum_maximum_nights       6097 non-null   int64  \n",
      " 25  maximum_maximum_nights       6097 non-null   int64  \n",
      " 26  minimum_nights_avg_ntm       6097 non-null   float64\n",
      " 27  maximum_nights_avg_ntm       6097 non-null   float64\n",
      " 28  number_of_reviews            6097 non-null   int64  \n",
      " 29  number_of_reviews_ltm        6097 non-null   int64  \n",
      " 30  number_of_reviews_l30d       6097 non-null   int64  \n",
      " 31  number_of_reviews_ly         6097 non-null   int64  \n",
      " 32  review_scores_rating         6097 non-null   float64\n",
      " 33  review_scores_accuracy       6097 non-null   float64\n",
      " 34  review_scores_cleanliness    6097 non-null   float64\n",
      " 35  review_scores_checkin        6097 non-null   float64\n",
      " 36  review_scores_communication  6097 non-null   float64\n",
      " 37  review_scores_location       6097 non-null   float64\n",
      " 38  review_scores_value          6097 non-null   float64\n",
      " 39  instant_bookable             6097 non-null   object \n",
      "dtypes: float64(14), int64(12), object(14)\n",
      "memory usage: 1.9+ MB\n",
      "Number of rows: 6097, columns: 40\n"
     ]
    }
   ],
   "source": [
    "df.info()\n",
    "\n",
    "print(f\"Number of rows: {df.shape[0]}, columns: {df.shape[1]}\")"
   ]
  },
  {
   "cell_type": "markdown",
   "id": "f1e23c24-ab79-488d-9fbb-c374120cacb3",
   "metadata": {},
   "source": [
    "### 2.0 Analyzing and Preparing Host-Level Features"
   ]
  },
  {
   "cell_type": "markdown",
   "id": "1590733f-f703-45e3-a87a-7d42163743dd",
   "metadata": {},
   "source": [
    "#### 2.1 Converting Percentage Strings to Numeric Values for Modeling."
   ]
  },
  {
   "cell_type": "code",
   "execution_count": 4,
   "id": "4edb9e71-2284-470d-9c86-0f6807a43101",
   "metadata": {
    "scrolled": true
   },
   "outputs": [],
   "source": [
    "percent_cols = ['host_response_rate', 'host_acceptance_rate']  \n",
    "\n",
    "for col in percent_cols:\n",
    "    df[col] = (\n",
    "        df[col]\n",
    "        .astype(str)                 \n",
    "        .str.rstrip('%')            \n",
    "        .replace('nan', np.nan)      \n",
    "        .astype(float) / 100\n",
    "    )"
   ]
  },
  {
   "cell_type": "markdown",
   "id": "58b5c452-d6b2-444c-94e3-be9339daa1cb",
   "metadata": {},
   "source": [
    "#### 2.2  Converting Binary Features (True/False) to 0/1 for Easier Processing"
   ]
  },
  {
   "cell_type": "code",
   "execution_count": 5,
   "id": "bb9b3fe4-eeca-40bb-8a28-734f5bd8e40c",
   "metadata": {
    "scrolled": true
   },
   "outputs": [
    {
     "name": "stderr",
     "output_type": "stream",
     "text": [
      "/var/folders/fv/20sryjy129q3sb1ms1ywswz40000gn/T/ipykernel_53303/3333232372.py:6: FutureWarning: Downcasting behavior in `replace` is deprecated and will be removed in a future version. To retain the old behavior, explicitly call `result.infer_objects(copy=False)`. To opt-in to the future behavior, set `pd.set_option('future.no_silent_downcasting', True)`\n",
      "  .replace({'t': 1, 'f': 0, 'nan': np.nan})\n",
      "/var/folders/fv/20sryjy129q3sb1ms1ywswz40000gn/T/ipykernel_53303/3333232372.py:6: FutureWarning: Downcasting behavior in `replace` is deprecated and will be removed in a future version. To retain the old behavior, explicitly call `result.infer_objects(copy=False)`. To opt-in to the future behavior, set `pd.set_option('future.no_silent_downcasting', True)`\n",
      "  .replace({'t': 1, 'f': 0, 'nan': np.nan})\n"
     ]
    }
   ],
   "source": [
    "binary_cols = ['host_is_superhost', 'host_has_profile_pic']\n",
    "\n",
    "for col in binary_cols:\n",
    "    df[col] = (\n",
    "        df[col]\n",
    "        .replace({'t': 1, 'f': 0, 'nan': np.nan})\n",
    "        .astype(int)   \n",
    "    )"
   ]
  },
  {
   "cell_type": "markdown",
   "id": "c0c0afd3-ac3e-4f7c-ade3-dbe95811636b",
   "metadata": {},
   "source": [
    "#### 2.3 Creating Host Experience Feature: Ratio of Total to Active Listings"
   ]
  },
  {
   "cell_type": "code",
   "execution_count": 6,
   "id": "225f48cc-c06a-4087-8d30-0d8380a3e4a3",
   "metadata": {},
   "outputs": [],
   "source": [
    "df['host_experience_ratio'] = (\n",
    "    df['host_total_listings_count'] /\n",
    "    df['host_listings_count'].replace(0, np.nan)   \n",
    ")\n",
    "\n",
    "df['host_experience_ratio'] = df['host_experience_ratio'].fillna(0)"
   ]
  },
  {
   "cell_type": "markdown",
   "id": "3cd4494c-1338-4848-b8e3-e6a2ca527b72",
   "metadata": {},
   "source": [
    "#### 2.4 Save Processed Host Features to a Separate Table and CSV File"
   ]
  },
  {
   "cell_type": "code",
   "execution_count": 7,
   "id": "c10ff652-b946-4215-97fe-72dc0d9538fc",
   "metadata": {},
   "outputs": [
    {
     "name": "stdout",
     "output_type": "stream",
     "text": [
      "DataFrame successfully saved to table: host_features\n",
      "Cleaned data saved to CSV: ../data/processed/host_features.csv\n"
     ]
    }
   ],
   "source": [
    "host_features_df = df[['host_response_rate', 'host_acceptance_rate', 'host_is_superhost',\n",
    "    'host_listings_count', 'host_total_listings_count', 'host_has_profile_pic', 'host_experience_ratio']]\n",
    "\n",
    "\n",
    "config = DatabaseConfig()\n",
    "db = DatabaseConnection(config)\n",
    "\n",
    "TABLE_NAME = \"host_features\"\n",
    "\n",
    "db.write_dataframe(host_features_df, TABLE_NAME, if_exists=\"replace\")\n",
    "\n",
    "host_features_path = \"../data/processed/host_features.csv\"\n",
    "df.to_csv(host_features_path, index=False)\n",
    "print(f\"Cleaned data saved to CSV: {host_features_path}\")"
   ]
  },
  {
   "cell_type": "markdown",
   "id": "c0b8ee2a-0846-4c48-8d11-d8e4aecd97e0",
   "metadata": {},
   "source": [
    "### 3.0 Location and Neighborhood based features"
   ]
  },
  {
   "cell_type": "markdown",
   "id": "18e9a443-fcc9-4eea-adf5-ac6171bd5ac3",
   "metadata": {},
   "source": [
    "#### Encoding and Ranking Neighbourhood Features for Location-Based Price Patterns"
   ]
  },
  {
   "cell_type": "code",
   "execution_count": 8,
   "id": "a6df5def-412a-4b9b-96d4-9147c3ebbe52",
   "metadata": {
    "scrolled": true
   },
   "outputs": [],
   "source": [
    "unique_neighbourhoods = df[\"neighbourhood_cleansed\"].unique()\n",
    "\n",
    "neighbourhood_dict = {name: i+1 for i, name in enumerate(unique_neighbourhoods)}\n",
    "\n",
    "df['neighbourhood_rank'] = df['neighbourhood_cleansed'].map(neighbourhood_dict)"
   ]
  },
  {
   "cell_type": "markdown",
   "id": "bc7b60ba-6f89-4a20-aac5-c240033b8512",
   "metadata": {},
   "source": [
    "#### 3.2 Save Processed Location Features to a Separate Table and CSV File"
   ]
  },
  {
   "cell_type": "code",
   "execution_count": 9,
   "id": "70293100-6188-4689-84bf-e826c9311143",
   "metadata": {},
   "outputs": [
    {
     "name": "stdout",
     "output_type": "stream",
     "text": [
      "DataFrame successfully saved to table: location_features\n",
      "Cleaned data saved to CSV: ../data/processed/location_features.csv\n"
     ]
    }
   ],
   "source": [
    "location_features_df = df[['neighbourhood', 'neighbourhood_cleansed', 'neighbourhood_rank']]\n",
    "\n",
    "\n",
    "config = DatabaseConfig()\n",
    "db = DatabaseConnection(config)\n",
    "\n",
    "TABLE_NAME = \"location_features\"\n",
    "\n",
    "db.write_dataframe(location_features_df, TABLE_NAME, if_exists=\"replace\")\n",
    "\n",
    "location_features_path = \"../data/processed/location_features.csv\"\n",
    "df.to_csv(location_features_path, index=False)\n",
    "print(f\"Cleaned data saved to CSV: {location_features_path}\")"
   ]
  },
  {
   "cell_type": "markdown",
   "id": "4e3eeea3-a269-4824-9804-c5286138622c",
   "metadata": {},
   "source": [
    "### 4.0 Proprerty Type Features"
   ]
  },
  {
   "cell_type": "markdown",
   "id": "706e88d9-feec-4be5-83ee-294eb9af4f17",
   "metadata": {},
   "source": [
    "#### 4.1 Encoding and Ranking Property Type Features "
   ]
  },
  {
   "cell_type": "code",
   "execution_count": 10,
   "id": "f5276c00-3b93-425e-9124-ec210b30d230",
   "metadata": {},
   "outputs": [],
   "source": [
    "unique_property_types = sorted(df[\"property_type\"].unique())\n",
    "unique_room_types = sorted(df[\"room_type\"].unique())\n",
    "\n",
    "property_type_dict = {name: i+1 for i, name in enumerate(unique_property_types)}\n",
    "room_type_dict = {name: i+1 for i, name in enumerate(unique_room_types)}\n",
    "\n",
    "df['property_type_id'] = df['property_type'].map(property_type_dict)\n",
    "df['room_type_id'] = df['room_type'].map(room_type_dict)"
   ]
  },
  {
   "cell_type": "markdown",
   "id": "b71514c7-d62f-4d10-be40-1f6fef777839",
   "metadata": {},
   "source": [
    "#### 4.2 Bedroom Bath Ratio"
   ]
  },
  {
   "cell_type": "code",
   "execution_count": 11,
   "id": "1ef6f8f4-1b28-4d25-93d2-92801f09eb92",
   "metadata": {},
   "outputs": [],
   "source": [
    "df['bedroom_bath_ratio'] = df['bedrooms'] / df['bathrooms']"
   ]
  },
  {
   "cell_type": "markdown",
   "id": "9fde988d-a120-4c19-8767-5ed66cafdcd5",
   "metadata": {},
   "source": [
    "#### 4.3 People per Bed"
   ]
  },
  {
   "cell_type": "code",
   "execution_count": 12,
   "id": "ad15de8e-4556-48ad-8d00-59ee9a5826a5",
   "metadata": {},
   "outputs": [],
   "source": [
    "df['people_per_bed'] = df['accommodates'] / df['beds']"
   ]
  },
  {
   "cell_type": "markdown",
   "id": "64faf789-0e3c-492b-b3a8-ecbc4889f75f",
   "metadata": {},
   "source": [
    "#### 4.4 Number of Total Rooms"
   ]
  },
  {
   "cell_type": "code",
   "execution_count": 13,
   "id": "629a0ac8-b447-4517-bfd2-e92f72c818f9",
   "metadata": {},
   "outputs": [],
   "source": [
    "def parse_bathrooms(text):\n",
    "    if pd.isna(text):\n",
    "        return np.nan\n",
    "    if 'Half' in text:\n",
    "        return 0.5\n",
    "    else:\n",
    "        match = re.search(r'\\d+(\\.\\d+)?', text)\n",
    "        return float(match.group()) if match else np.nan\n",
    "\n",
    "df['bathrooms'] = df['bathrooms_text'].apply(parse_bathrooms)\n",
    "\n",
    "df['rooms_total'] = df['bedrooms'] + df['bathrooms']\n",
    "\n",
    "df['rooms_total'] = df['rooms_total'].replace(\"\", np.nan)"
   ]
  },
  {
   "cell_type": "markdown",
   "id": "b029ff6c-3891-4001-ba19-5a3e675e4fc4",
   "metadata": {},
   "source": [
    "#### 4.5 Save Processed Property Features to a Separate Table and CSV File"
   ]
  },
  {
   "cell_type": "code",
   "execution_count": 14,
   "id": "7167a6fb-3c80-4f04-9bef-c6c9637331e3",
   "metadata": {},
   "outputs": [
    {
     "name": "stdout",
     "output_type": "stream",
     "text": [
      "DataFrame successfully saved to table: property_features\n",
      "Cleaned data saved to CSV: ../data/processed/property_features.csv\n"
     ]
    }
   ],
   "source": [
    "property_features_df = df[[\n",
    "    'property_type', 'room_type', 'property_type_id', 'room_type_id',\n",
    "    'accommodates', 'bathrooms', 'bathrooms_text', 'bedrooms', 'beds',\n",
    "    'bedroom_bath_ratio', 'people_per_bed', 'rooms_total'\n",
    "]]\n",
    "\n",
    "\n",
    "config = DatabaseConfig()\n",
    "db = DatabaseConnection(config)\n",
    "\n",
    "TABLE_NAME = \"property_features\"\n",
    "\n",
    "db.write_dataframe(property_features_df, TABLE_NAME, if_exists=\"replace\")\n",
    "\n",
    "property_features_df_path = \"../data/processed/property_features.csv\"\n",
    "\n",
    "df.to_csv(property_features_df_path, index=False)\n",
    "print(f\"Cleaned data saved to CSV: {property_features_df_path}\")"
   ]
  },
  {
   "cell_type": "markdown",
   "id": "a9043069-d228-4b35-bc26-abd5bc78434f",
   "metadata": {},
   "source": [
    "### 5.0 Sentiment Anlysis"
   ]
  },
  {
   "cell_type": "code",
   "execution_count": 15,
   "id": "54e0ace6-066e-42e0-b198-31a616b05260",
   "metadata": {},
   "outputs": [],
   "source": [
    "def get_sentiment_vader(text):\n",
    "    return sia.polarity_scores(str(text))['compound']\n",
    "\n",
    "df['description_sentiment'] = df['description'].apply(get_sentiment_vader)\n",
    "df['amenities_sentiment'] = df['amenities'].apply(get_sentiment_vader)\n",
    "\n",
    "def sentiment_label_vader(compound):\n",
    "    if compound >= 0.05:\n",
    "        return \"positive\"\n",
    "    elif compound <= -0.05:\n",
    "        return \"negative\"\n",
    "    else:\n",
    "        return \"neutral\"\n",
    "\n",
    "df['description_sentiment_label'] = df['description_sentiment'].apply(sentiment_label_vader)\n",
    "df['amenities_sentiment_label'] = df['amenities_sentiment'].apply(sentiment_label_vader)"
   ]
  },
  {
   "cell_type": "markdown",
   "id": "a9d65d31-5d4b-4b6b-8ef0-df203e257b4f",
   "metadata": {},
   "source": [
    "### 6.0 Check and Remove Rows with NULL value."
   ]
  },
  {
   "cell_type": "code",
   "execution_count": 16,
   "id": "543e95f2-008b-472f-8d00-3c669fab5eb1",
   "metadata": {},
   "outputs": [
    {
     "data": {
      "text/plain": [
       "id                             0\n",
       "name                           0\n",
       "description                    0\n",
       "host_response_rate             0\n",
       "host_acceptance_rate           0\n",
       "host_is_superhost              0\n",
       "host_listings_count            0\n",
       "host_total_listings_count      0\n",
       "host_has_profile_pic           0\n",
       "neighbourhood                  0\n",
       "neighbourhood_cleansed         0\n",
       "property_type                  0\n",
       "room_type                      0\n",
       "accommodates                   0\n",
       "bathrooms                      9\n",
       "bathrooms_text                 0\n",
       "bedrooms                       0\n",
       "beds                           0\n",
       "amenities                      0\n",
       "price                          0\n",
       "minimum_nights                 0\n",
       "maximum_nights                 0\n",
       "minimum_minimum_nights         0\n",
       "maximum_minimum_nights         0\n",
       "minimum_maximum_nights         0\n",
       "maximum_maximum_nights         0\n",
       "minimum_nights_avg_ntm         0\n",
       "maximum_nights_avg_ntm         0\n",
       "number_of_reviews              0\n",
       "number_of_reviews_ltm          0\n",
       "number_of_reviews_l30d         0\n",
       "number_of_reviews_ly           0\n",
       "review_scores_rating           0\n",
       "review_scores_accuracy         0\n",
       "review_scores_cleanliness      0\n",
       "review_scores_checkin          0\n",
       "review_scores_communication    0\n",
       "review_scores_location         0\n",
       "review_scores_value            0\n",
       "instant_bookable               0\n",
       "host_experience_ratio          0\n",
       "neighbourhood_rank             0\n",
       "property_type_id               0\n",
       "room_type_id                   0\n",
       "bedroom_bath_ratio             8\n",
       "people_per_bed                 0\n",
       "rooms_total                    9\n",
       "description_sentiment          0\n",
       "amenities_sentiment            0\n",
       "description_sentiment_label    0\n",
       "amenities_sentiment_label      0\n",
       "dtype: int64"
      ]
     },
     "execution_count": 16,
     "metadata": {},
     "output_type": "execute_result"
    }
   ],
   "source": [
    "df.isna().sum()"
   ]
  },
  {
   "cell_type": "code",
   "execution_count": 17,
   "id": "51598b25-6bd2-41cb-859e-0a21534bd2b7",
   "metadata": {},
   "outputs": [],
   "source": [
    "df['rooms_total'].replace(\"\", np.nan, inplace=False)\n",
    "df = df.dropna(subset=['rooms_total','bedroom_bath_ratio'])"
   ]
  },
  {
   "cell_type": "markdown",
   "id": "28694b25-1c8b-41ae-b3f8-f372c007b108",
   "metadata": {},
   "source": [
    "### 7.0 Reorder Rows and Save to New Table and new CSV File"
   ]
  },
  {
   "cell_type": "code",
   "execution_count": 18,
   "id": "dab7caa4-f147-4829-8cdb-d7efcd9a286a",
   "metadata": {},
   "outputs": [
    {
     "name": "stdout",
     "output_type": "stream",
     "text": [
      "DataFrame successfully saved to table: feature_eningineered_data\n",
      "Cleaned data saved to CSV: ../data/processed/amsterdam_airbnbs_feature_engineered_data.csv\n"
     ]
    }
   ],
   "source": [
    "featured_df = df[[\n",
    "    # 1. Basic info\n",
    "    'id', 'name', 'description', 'description_sentiment', 'description_sentiment_label',\n",
    "    \n",
    "    # 2. Host info\n",
    "    'host_response_rate', 'host_acceptance_rate', 'host_is_superhost',\n",
    "    'host_listings_count', 'host_total_listings_count', 'host_has_profile_pic', 'host_experience_ratio',\n",
    "    \n",
    "    # 3. Location\n",
    "    'neighbourhood', 'neighbourhood_cleansed', 'neighbourhood_rank',\n",
    "    \n",
    "    # 4. Property features\n",
    "    'property_type', 'room_type', 'property_type_id', 'room_type_id',\n",
    "    'accommodates', 'bathrooms', 'bathrooms_text', 'bedrooms', 'beds',\n",
    "    'bedroom_bath_ratio', 'people_per_bed', 'rooms_total',\n",
    "    \n",
    "    # 5. Amenities\n",
    "    'amenities', 'amenities_sentiment', 'amenities_sentiment_label',\n",
    "    \n",
    "    # 6. Price & availability\n",
    "    'price', 'minimum_nights', 'maximum_nights', 'minimum_minimum_nights', 'maximum_minimum_nights',\n",
    "    'minimum_maximum_nights', 'maximum_maximum_nights', 'minimum_nights_avg_ntm', 'maximum_nights_avg_ntm',\n",
    "    \n",
    "    # 7. Reviews\n",
    "    'number_of_reviews', 'number_of_reviews_ltm', 'number_of_reviews_l30d', 'number_of_reviews_ly',\n",
    "    'review_scores_rating', 'review_scores_accuracy', 'review_scores_cleanliness', 'review_scores_checkin',\n",
    "    'review_scores_communication', 'review_scores_location', 'review_scores_value', 'instant_bookable',\n",
    "    \n",
    "    \n",
    "]]\n",
    "\n",
    "config = DatabaseConfig()\n",
    "db = DatabaseConnection(config)\n",
    "\n",
    "TABLE_NAME = \"feature_eningineered_data\"\n",
    "\n",
    "db.write_dataframe(featured_df, TABLE_NAME, if_exists=\"replace\")\n",
    "\n",
    "featured_df_path = \"../data/processed/amsterdam_airbnbs_feature_engineered_data.csv\"\n",
    "\n",
    "df.to_csv(featured_df_path, index=False)\n",
    "print(f\"Cleaned data saved to CSV: {featured_df_path}\")"
   ]
  }
 ],
 "metadata": {
  "kernelspec": {
   "display_name": "Airbnb Project Kernel",
   "language": "python",
   "name": "airbnb-env"
  },
  "language_info": {
   "codemirror_mode": {
    "name": "ipython",
    "version": 3
   },
   "file_extension": ".py",
   "mimetype": "text/x-python",
   "name": "python",
   "nbconvert_exporter": "python",
   "pygments_lexer": "ipython3",
   "version": "3.13.2"
  }
 },
 "nbformat": 4,
 "nbformat_minor": 5
}
